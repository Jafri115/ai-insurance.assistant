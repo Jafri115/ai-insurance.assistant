{
 "cells": [
  {
   "cell_type": "markdown",
   "id": "219c6701",
   "metadata": {},
   "source": [
    "# Insurance AI Assistant - Model Evaluation\n",
    "\n",
    "This notebook provides comprehensive evaluation of the fine-tuned insurance AI assistant model using multiple metrics including perplexity, toxicity, relevance, and domain-specific assessments.\n",
    "\n",
    "## Evaluation Metrics\n",
    "- **Perplexity**: Language model quality and fluency\n",
    "- **Toxicity**: Content safety and appropriateness  \n",
    "- **Relevance**: Domain-specific relevance to insurance\n",
    "- **Semantic Similarity**: Answer quality and coherence\n",
    "- **Safety Score**: Responsible AI indicators\n",
    "- **Response Quality**: Length and completeness metrics"
   ]
  },
  {
   "cell_type": "code",
   "execution_count": null,
   "id": "8e5b6cc3",
   "metadata": {},
   "outputs": [],
   "source": [
    "# Install evaluation dependencies (uncomment if needed)\n",
    "# !pip install transformers sentence-transformers detoxify plotly scikit-learn\n",
    "\n",
    "import os\n",
    "import json\n",
    "import torch\n",
    "import numpy as np\n",
    "import pandas as pd\n",
    "import matplotlib.pyplot as plt\n",
    "import seaborn as sns\n",
    "import plotly.express as px\n",
    "import plotly.graph_objects as go\n",
    "from pathlib import Path\n",
    "from typing import Dict, List, Any\n",
    "import warnings\n",
    "warnings.filterwarnings('ignore')\n",
    "\n",
    "# Model and evaluation libraries\n",
    "from transformers import AutoTokenizer, AutoModelForCausalLM, pipeline\n",
    "from sentence_transformers import SentenceTransformer\n",
    "from sklearn.metrics.pairwise import cosine_similarity\n",
    "\n",
    "# Safety evaluation\n",
    "try:\n",
    "    from detoxify import Detoxify\n",
    "    DETOXIFY_AVAILABLE = True\n",
    "    print(\"✅ Detoxify available for toxicity evaluation\")\n",
    "except ImportError:\n",
    "    DETOXIFY_AVAILABLE = False\n",
    "    print(\"⚠️ Detoxify not available - toxicity evaluation will be skipped\")\n",
    "\n",
    "# Check device\n",
    "device = torch.device(\"cuda\" if torch.cuda.is_available() else \"cpu\")\n",
    "print(f\"🔧 Using device: {device}\")\n",
    "\n",
    "print(\"✅ Evaluation environment setup completed!\")"
   ]
  }
 ],
 "metadata": {
  "language_info": {
   "name": "python"
  }
 },
 "nbformat": 4,
 "nbformat_minor": 5
}
